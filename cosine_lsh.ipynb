{
 "cells": [
  {
   "cell_type": "markdown",
   "id": "43c97ea0",
   "metadata": {},
   "source": [
    "# Item-to-Item Collaborative Filtering\n",
    "\n",
    "\n",
    "## Conceito\n",
    "Seja $u$ o user ativo e $i$ o item alvo.\n",
    "\n",
    "- Se o user $u$ demonstrou preferência por itens similares ao $i$, é provável que $u$ também goste de $i$.\n",
    "- Por outro lado, se $u$ não gostou de itens similares ao $i$, é provável que também não goste de $i$.\n",
    "\n",
    "Em resumo, ao analisar como o user $u$ avaliou itens semelhantes ao $i$, podemos estimar como $u$ avaliaria o item $i$.\n",
    "\n"
   ]
  },
  {
   "cell_type": "markdown",
   "id": "29da892a",
   "metadata": {},
   "source": [
    "## Algoritmo: Filtragem Colaborativa Item-a-Item\n",
    "\n",
    "O algoritmo de filtragem colaborativa baseada em itens pode ser descrito conforme apresentado em <a href=\"http://citeseerx.ist.psu.edu/viewdoc/download?doi=10.1.1.449.1171&rep=rep1&type=pdf\">(B. Sarwar et al. 2001)</a> e <a href=\"https://citeseerx.ist.psu.edu/viewdoc/download?doi=10.1.1.554.1671&rep=rep1&type=pdf\">(George Karypis 2001)</a>:\n",
    "\n",
    "1. **Cálculo das Similaridades entre Itens:**  \n",
    "    Para cada item do catálogo, identificam-se os $k$ itens mais similares, registrando os valores de similaridade correspondentes. A similaridade entre dois itens pode ser calculada utilizando a *Similaridade Cosseno Ajustada*, que é mais eficaz do que a similaridade cosseno tradicional usada em filtragem colaborativa baseada em users. A fórmula é:\n",
    "\n",
    "    $$\n",
    "    w_{i,j}= \\frac{\\sum_{u\\in U}(r_{u,i}-\\bar{r}_u)(r_{u,j}-\\bar{r}_u)}{\\sqrt{\\sum_{u\\in U} (r_{u,i}-\\bar{r}_u)^2}\\sqrt{\\sum_{u\\in U} (r_{u,j}-\\bar{r}_u)^2}}\n",
    "    $$\n",
    "\n",
    "    Onde $w_{i,j}$ representa o grau de similaridade entre os itens $i$ e $j$, considerando todos os users $u \\in U$ que avaliaram ambos os itens. $S^{(i)}$ representa o conjunto dos $k$ itens mais similares ao item $i$.\n",
    "\n",
    "2. **Geração de Recomendações Top-N para o Usuário:**  \n",
    "    Para recomendar itens a um usuário $u$ que já interagiu com um conjunto $I_u$ de itens:\n",
    "\n",
    "    - **Seleção de Candidatos:**  \n",
    "      Encontra-se o conjunto $C$ de itens candidatos, que é a união dos conjuntos $S^{(i)}$ para todos os itens $i \\in I_u$, excluindo os itens já consumidos:\n",
    "\n",
    "      $$\n",
    "      C = \\bigcup_{i\\in I_u}\\{S^{(i)}\\}\\smallsetminus I_u\n",
    "      $$\n",
    "\n",
    "    - **Cálculo da Similaridade Total:**  \n",
    "      Para cada candidato $c \\in C$, calcula-se a soma das similaridades entre $c$ e todos os itens do conjunto $I_u$:\n",
    "\n",
    "      $$\n",
    "      w_{c,I_u} = \\sum_{i\\in I_u} w_{c,i}, \\forall c \\in C\n",
    "      $$\n",
    "\n",
    "    - **Ordenação e Seleção dos Itens:**  \n",
    "      Os itens candidatos são ordenados de acordo com $w_{c,I_u}$ em ordem decrescente, e os $N$ primeiros são recomendados ao usuário.\n",
    "\n",
    "Este método permite recomendar itens relevantes ao usuário com base nas similaridades entre os itens que ele já avaliou ou consumiu."
   ]
  },
  {
   "cell_type": "code",
   "execution_count": 1,
   "id": "bad21ddd",
   "metadata": {},
   "outputs": [],
   "source": [
    "from pyspark.sql import SparkSession\n",
    "from pyspark.sql.functions import col, collect_list, struct, sum as sql_sum, udf, lit\n",
    "from pyspark.ml.linalg import Vectors, SparseVector\n",
    "from pyspark.sql import functions as F\n",
    "from pyspark.sql import Row\n",
    "from pyspark.ml.feature import Normalizer, BucketedRandomProjectionLSH\n",
    "from pyspark.ml.evaluation import RegressionEvaluator\n",
    "import os\n",
    "import time\n",
    "import pandas as pd"
   ]
  },
  {
   "cell_type": "markdown",
   "id": "18882d31",
   "metadata": {},
   "source": [
    "## Importação das Bibliotecas\n",
    "\n",
    "O código a seguir importa as bibliotecas essenciais para o processamento distribuído de dados, manipulação de DataFrames, criação de vetores esparsos, normalização, aplicação de LSH (Locality Sensitive Hashing) e avaliação do modelo. Utilizamos o PySpark para processamento em larga escala, além de pandas para sumarização dos resultados."
   ]
  },
  {
   "cell_type": "code",
   "execution_count": 2,
   "id": "4281724c",
   "metadata": {},
   "outputs": [],
   "source": [
    "start_time = time.time()"
   ]
  },
  {
   "cell_type": "markdown",
   "id": "ac78b8dc",
   "metadata": {},
   "source": [
    "## Medição do Tempo de Execução\n",
    "\n",
    "O código abaixo inicializa um temporizador para medir o tempo total de execução do pipeline de recomendação. Isso é útil para avaliar o desempenho do algoritmo em diferentes conjuntos de dados."
   ]
  },
  {
   "cell_type": "code",
   "execution_count": 3,
   "id": "571fe4e0",
   "metadata": {},
   "outputs": [
    {
     "name": "stderr",
     "output_type": "stream",
     "text": [
      "25/05/30 23:57:49 WARN Utils: Your hostname, cristianonicolau.local resolves to a loopback address: 127.0.0.1; using 192.168.1.122 instead (on interface en0)\n",
      "25/05/30 23:57:49 WARN Utils: Set SPARK_LOCAL_IP if you need to bind to another address\n",
      "Setting default log level to \"WARN\".\n",
      "To adjust logging level use sc.setLogLevel(newLevel). For SparkR, use setLogLevel(newLevel).\n",
      "25/05/30 23:57:49 WARN NativeCodeLoader: Unable to load native-hadoop library for your platform... using builtin-java classes where applicable\n",
      "25/05/30 23:57:49 WARN Utils: Service 'SparkUI' could not bind on port 4040. Attempting port 4041.\n"
     ]
    }
   ],
   "source": [
    "spark = SparkSession.builder \\\n",
    "    .appName(\"ItemItemCF\") \\\n",
    "    .config(\"spark.driver.memory\", \"16g\") \\\n",
    "    .config(\"spark.executor.memory\", \"16g\") \\\n",
    "    .config(\"spark.executor.cores\", \"4\") \\\n",
    "    .config(\"spark.sql.adaptive.enabled\", \"true\") \\\n",
    "    .config(\"spark.sql.adaptive.coalescePartitions.enabled\", \"true\") \\\n",
    "    .getOrCreate()\n",
    "\n",
    "# Set logging level\n",
    "spark.sparkContext.setLogLevel(\"WARN\")"
   ]
  },
  {
   "cell_type": "markdown",
   "id": "dbc717b2",
   "metadata": {},
   "source": [
    "## Inicialização da SparkSession\n",
    "\n",
    "Aqui criamos uma sessão Spark, configurando a quantidade de memória e núcleos de execução. A SparkSession é o ponto de entrada para utilizar o PySpark e permite o processamento distribuído dos dados. Também ajustamos o nível de log para evitar excesso de mensagens durante a execução."
   ]
  },
  {
   "cell_type": "code",
   "execution_count": 4,
   "id": "f7cc28f2",
   "metadata": {},
   "outputs": [],
   "source": [
    "df ={\n",
    "    \"small\": \"./data/ml-latest-small/ratings.csv\",\n",
    "    \"ml-1m\": \"./data/ml-1m/ratings.csv\",\n",
    "    \"ml-10m\": \"./data/ml-10m/ratings.csv\",\n",
    "    \"ml-20m\": \"./data/ml-20m/ratings.csv\",\n",
    "    \"ml-25m\": \"./data/ml-25m/ratings.csv\",\n",
    "}\n",
    "\n",
    "data_sel = \"small\" "
   ]
  },
  {
   "cell_type": "markdown",
   "id": "d3f7ddf1",
   "metadata": {},
   "source": [
    "## Seleção do Dataset\n",
    "\n",
    "Definimos um dicionário com os caminhos para diferentes versões do MovieLens. O dataset selecionado será utilizado para treinar e avaliar o modelo de recomendação."
   ]
  },
  {
   "cell_type": "code",
   "execution_count": 5,
   "id": "d9ca7b17",
   "metadata": {},
   "outputs": [],
   "source": [
    "# dataset_links = {\n",
    "#     \"small\": \"https://files.grouplens.org/datasets/movielens/ml-latest-small.zip\",\n",
    "#     \"ml-1m\": \"https://files.grouplens.org/datasets/movielens/ml-1m.zip\",\n",
    "#     \"ml-10m\": \"https://files.grouplens.org/datasets/movielens/ml-10m.zip\",\n",
    "#     \"ml-20m\": \"https://files.grouplens.org/datasets/movielens/ml-20m.zip\",\n",
    "#     \"ml-25m\": \"https://files.grouplens.org/datasets/movielens/ml-25m.zip\"\n",
    "# }\n",
    "\n",
    "# def download_and_extract_dataset(dataset_name):\n",
    "#     if dataset_name not in dataset_links:\n",
    "#         raise ValueError(f\"Dataset '{dataset_name}' not found. Available datasets: {list(dataset_links.keys())}\")\n",
    "\n",
    "#     url = dataset_links[dataset_name]\n",
    "#     os.system(f\"wget {url} -O {dataset_name}.zip\")\n",
    "#     os.system(f\"unzip {dataset_name}.zip -d {dataset_name}\")\n",
    "#     print(f\"Downloaded and extracted {dataset_name} dataset.\")"
   ]
  },
  {
   "cell_type": "markdown",
   "id": "6f0b24ca",
   "metadata": {},
   "source": [
    "## (Opcional) Download Automático dos Datasets\n",
    "\n",
    "O bloco abaixo, atualmente comentado, permite baixar e extrair automaticamente os datasets do MovieLens a partir dos links oficiais. Isso facilita a obtenção dos dados necessários para os experimentos."
   ]
  },
  {
   "cell_type": "code",
   "execution_count": 6,
   "id": "30d83a19",
   "metadata": {},
   "outputs": [
    {
     "name": "stdout",
     "output_type": "stream",
     "text": [
      "=== DATASET STATISTICS ===\n",
      "Number of ratings:  100836\n",
      "Average rating:  3.501556983616962\n",
      "Minimum rating:  0.5\n",
      "Maximum rating:  5.0\n",
      "Number of users:  610\n",
      "Number of movies:  9724\n"
     ]
    },
    {
     "data": {
      "text/plain": [
       "[Row(userId=1, movieId=1, rating=4.0),\n",
       " Row(userId=1, movieId=3, rating=4.0),\n",
       " Row(userId=1, movieId=6, rating=4.0),\n",
       " Row(userId=1, movieId=47, rating=5.0),\n",
       " Row(userId=1, movieId=50, rating=5.0)]"
      ]
     },
     "execution_count": 6,
     "metadata": {},
     "output_type": "execute_result"
    }
   ],
   "source": [
    "PATH = df[data_sel]\n",
    "\n",
    "# download_and_extract_dataset(\"ml-25m\")  # Change to desired dataset\n",
    "# PATH = \"ml-25m/ratings.csv\"  # Adjust path based on the dataset\n",
    "data = spark.read.csv(PATH, header=True, inferSchema=True) \\\n",
    "            .select(\"userId\", \"movieId\", \"rating\")\n",
    "\n",
    "print(\"=== DATASET STATISTICS ===\")\n",
    "print(\"Number of ratings: \", data.count())\n",
    "print(\"Average rating: \", data.agg(F.avg(\"rating\")).first()[0])\n",
    "print(\"Minimum rating: \", data.agg(F.min(\"rating\")).first()[0])\n",
    "print(\"Maximum rating: \", data.agg(F.max(\"rating\")).first()[0])\n",
    "print(\"Number of users: \", data.select(\"userId\").distinct().count())\n",
    "print(\"Number of movies: \", data.select(\"movieId\").distinct().count())\n",
    "\n",
    "data.take(5)"
   ]
  },
  {
   "cell_type": "markdown",
   "id": "0e5b9fd0",
   "metadata": {},
   "source": [
    "## Carregamento e Estatísticas do Dataset\n",
    "\n",
    "O código a seguir carrega o arquivo de ratings selecionado, exibe estatísticas como número de avaliações, média, mínimo, máximo, número de usuários e de filmes. Isso fornece uma visão geral do conjunto de dados utilizado."
   ]
  },
  {
   "cell_type": "code",
   "execution_count": 7,
   "id": "d73f7253",
   "metadata": {},
   "outputs": [
    {
     "name": "stdout",
     "output_type": "stream",
     "text": [
      "Training set size: 90673\n",
      "Test set size: 10163\n"
     ]
    },
    {
     "data": {
      "text/plain": [
       "DataFrame[userId: int, movieId: int, rating: double]"
      ]
     },
     "execution_count": 7,
     "metadata": {},
     "output_type": "execute_result"
    }
   ],
   "source": [
    "# Split data into training and test sets\n",
    "ratings, test = data.randomSplit([0.9, 0.1], seed=42)\n",
    "print(f\"Training set size: {ratings.count()}\")\n",
    "print(f\"Test set size: {test.count()}\")\n",
    "ratings.cache()\n",
    "test.cache()"
   ]
  },
  {
   "cell_type": "markdown",
   "id": "8f76cd2f",
   "metadata": {},
   "source": [
    "## Divisão em Conjuntos de Treino e Teste\n",
    "\n",
    "Aqui dividimos o dataset em conjuntos de treino (90%) e teste (10%) de forma aleatória. O conjunto de treino é usado para construir o modelo, enquanto o teste serve para avaliar a qualidade das recomendações."
   ]
  },
  {
   "cell_type": "markdown",
   "id": "2e562708",
   "metadata": {},
   "source": [
    "## 3. Model Training: Item-Item CF with LSH\n",
    " \n",
    "The training process involves several steps:\n",
    "1.  **Create Item Vectors**: For each movie, create a vector where each dimension represents a user, and the value is the rating given by that user. We use sparse vectors for efficiency.\n",
    "2.  **Normalize Vectors**: Normalize the item vectors using the L2 norm. This makes the LSH approach (based on Euclidean distance) approximate cosine similarity.\n",
    "3.  **Apply LSH**: Use `BucketedRandomProjectionLSH` to hash the normalized vectors into buckets. Items falling into the same buckets are likely to be similar.\n",
    "4.  **Find Similar Items**: Use `approxSimilarityJoin` to find pairs of similar items based on their LSH hashes and calculate their cosine similarity.\n"
   ]
  },
  {
   "cell_type": "code",
   "execution_count": 8,
   "id": "281dc03c",
   "metadata": {},
   "outputs": [],
   "source": [
    "def to_sparse_vector(user_ratings, size):\n",
    "    # Sort by userId to ensure strictly increasing indices\n",
    "    sorted_pairs = sorted(user_ratings, key=lambda x: x.userId)\n",
    "    indices = [x.userId - 1 for x in sorted_pairs] # Assuming userIds start at 1\n",
    "    values = [float(x.rating) for x in sorted_pairs]\n",
    "    return Vectors.sparse(size, indices, values)"
   ]
  },
  {
   "cell_type": "markdown",
   "id": "1b82b857",
   "metadata": {},
   "source": [
    "### 3.1 Criação dos Vetores dos Itens\n",
    "\n",
    "A função abaixo transforma as avaliações dos usuários em vetores esparsos, onde cada dimensão representa um usuário e o valor é a nota atribuída ao item. Isso é fundamental para calcular similaridades entre itens de forma eficiente."
   ]
  },
  {
   "cell_type": "markdown",
   "id": "433555cd",
   "metadata": {},
   "source": [
    "now that each rating has been normalized, we can represent each item by a vector of its normalized ratings"
   ]
  },
  {
   "cell_type": "code",
   "execution_count": 9,
   "id": "64174f36",
   "metadata": {},
   "outputs": [],
   "source": [
    "spark.udf.register(\"to_sparse_vector\", to_sparse_vector)\n",
    "\n",
    "item_user = ratings.groupBy(\"movieId\") \\\n",
    "    .agg(collect_list(struct(\"userId\", \"rating\")).alias(\"user_ratings\"))"
   ]
  },
  {
   "cell_type": "markdown",
   "id": "8322afa9",
   "metadata": {},
   "source": [
    "### Agrupamento das Avaliações por Item\n",
    "\n",
    "Registramos a função de conversão para vetor esparso como UDF no Spark e agrupamos as avaliações por `movieId`, preparando os dados para a criação dos vetores de características dos itens."
   ]
  },
  {
   "cell_type": "code",
   "execution_count": 10,
   "id": "60a198bc",
   "metadata": {},
   "outputs": [
    {
     "name": "stderr",
     "output_type": "stream",
     "text": [
      "                                                                                \r"
     ]
    },
    {
     "name": "stdout",
     "output_type": "stream",
     "text": [
      "=== ITEM VECTORS ===\n"
     ]
    },
    {
     "name": "stderr",
     "output_type": "stream",
     "text": [
      "[Stage 44:>                                                         (0 + 1) / 1]\r"
     ]
    },
    {
     "name": "stdout",
     "output_type": "stream",
     "text": [
      "+-------+-------------------------------------------------------------------------------------------------------------------------------------------------------------------------------------------------------------------------------------------------------------------------------------------------------------------------------------------------------------------------------------------------------------------------------------------------------------------------------------------------------------------------------------------------------------------------------------------------------------------------------------------------------------------------------------------------------------------------------------------------------------------------------------------------------------------------------------------------------------------------------------------------------------------------------------------------------------------------------------------------------------------------------------------------------------------------------------------------------------------------------------------------------------------------------------------------------------------------------------------------------------------------------------------------------------------------------------------------------------------------------------------------------------------------------------------------------------------------------------------------------------------------------------------------------------------------------------------------------------+\n",
      "|movieId|features                                                                                                                                                                                                                                                                                                                                                                                                                                                                                                                                                                                                                                                                                                                                                                                                                                                                                                                                                                                                                                                                                                                                                                                                                                                                                                                                                                                                                                                                                                                                                                                                     |\n",
      "+-------+-------------------------------------------------------------------------------------------------------------------------------------------------------------------------------------------------------------------------------------------------------------------------------------------------------------------------------------------------------------------------------------------------------------------------------------------------------------------------------------------------------------------------------------------------------------------------------------------------------------------------------------------------------------------------------------------------------------------------------------------------------------------------------------------------------------------------------------------------------------------------------------------------------------------------------------------------------------------------------------------------------------------------------------------------------------------------------------------------------------------------------------------------------------------------------------------------------------------------------------------------------------------------------------------------------------------------------------------------------------------------------------------------------------------------------------------------------------------------------------------------------------------------------------------------------------------------------------------------------------+\n",
      "|1      |(610,[0,4,6,16,17,18,20,26,30,31,32,39,42,43,44,45,49,53,56,62,63,65,67,70,72,77,81,85,88,90,92,95,97,102,106,111,118,120,129,131,133,134,136,139,140,143,144,150,152,154,155,158,159,160,165,166,168,170,176,177,178,181,184,185,190,192,200,201,205,212,213,215,216,222,225,231,232,238,239,246,248,251,262,263,265,269,272,273,274,275,276,278,279,287,289,290,291,292,297,303,306,313,322,327,329,331,333,335,336,338,340,346,349,352,356,358,363,366,371,372,377,379,380,381,384,388,390,395,398,410,411,419,421,431,435,437,447,450,452,455,459,461,467,468,469,470,473,475,476,479,482,483,487,489,491,499,503,508,513,516,521,523,524,527,528,532,533,540,543,549,554,558,559,560,561,566,569,571,572,578,579,583,586,589,595,596,598,599,600,602,603,604,605,606,607,608,609],[4.0,4.0,4.5,4.5,3.5,4.0,3.5,3.0,5.0,3.0,3.0,5.0,5.0,3.0,4.0,5.0,3.0,3.0,5.0,5.0,4.0,4.0,2.5,5.0,4.5,4.0,2.5,4.0,3.0,4.0,3.0,5.0,4.5,4.0,4.0,3.0,3.5,4.0,3.0,2.0,3.0,4.0,4.0,3.0,4.0,3.5,5.0,5.0,2.0,3.0,4.0,4.5,4.0,4.0,5.0,3.5,4.5,5.0,5.0,4.0,4.0,4.0,4.0,4.0,4.0,2.0,5.0,4.0,5.0,3.5,3.0,3.0,4.0,3.5,3.5,3.5,3.0,4.0,5.0,5.0,4.0,4.5,4.0,4.0,2.0,5.0,5.0,4.0,5.0,4.0,4.0,3.0,4.5,4.5,4.0,4.0,4.0,3.0,2.0,5.0,4.0,3.0,3.5,5.0,4.0,4.0,3.5,4.0,4.0,4.0,5.0,5.0,4.0,5.0,5.0,4.0,5.0,5.0,3.0,3.0,4.5,5.0,3.5,4.5,4.0,5.0,3.0,5.0,4.0,5.0,2.0,4.0,4.0,2.5,4.0,4.5,5.0,5.0,5.0,5.0,4.5,1.5,4.0,4.0,4.0,5.0,4.0,4.0,4.0,3.0,4.0,4.5,4.5,3.5,4.0,4.0,4.0,4.0,4.0,4.0,3.0,4.0,4.0,2.5,3.0,5.0,4.0,3.0,3.0,4.0,4.0,5.0,3.0,4.0,4.5,3.5,4.0,4.0,5.0,4.0,3.0,5.0,5.0,4.0,4.0,4.0,3.0,2.5,4.0,4.0,3.0,4.0,2.5,4.0,2.5,3.0,5.0])|\n",
      "|2      |(610,[5,7,17,18,19,20,26,50,61,67,81,90,93,102,103,106,116,121,124,134,139,143,148,152,159,176,185,201,220,221,225,231,239,248,258,273,275,283,287,293,297,298,303,304,307,317,320,321,322,329,346,356,358,372,379,380,410,413,424,425,431,435,445,446,447,457,469,473,475,476,479,482,483,488,496,500,511,516,522,524,526,558,560,562,565,569,572,585,598,599,601,603,604,607],[4.0,4.0,3.0,3.0,3.0,3.5,4.0,4.5,4.0,2.5,3.0,3.0,4.0,4.0,3.0,5.0,3.0,4.0,4.0,3.0,3.5,3.0,1.0,2.0,4.0,3.5,4.0,4.0,3.5,2.5,3.0,4.0,5.0,4.0,2.0,3.5,4.0,4.0,2.0,3.0,0.5,3.0,4.0,3.5,3.0,3.5,5.0,3.0,4.0,1.5,3.0,3.0,3.5,3.0,5.0,4.0,4.0,3.0,3.0,4.5,4.0,4.0,3.0,5.0,3.0,4.0,3.0,3.0,4.0,4.0,3.0,4.0,2.5,2.5,2.5,3.0,3.0,3.0,4.5,3.5,4.0,4.0,4.0,2.5,4.0,3.5,4.5,4.0,2.5,4.0,4.0,5.0,3.5,2.0])                                                                                                                                                                                                                                                                                                                                                                                                                                                                                                                                                                                                                                                                                                                                                                                                                                   |\n",
      "|3      |(610,[0,5,18,31,41,42,43,50,57,67,90,99,101,115,116,149,150,178,216,225,239,269,287,288,293,301,306,307,320,329,336,367,409,447,455,469,476,491,500,543,554,587,589,593,598,607],[4.0,5.0,3.0,3.0,4.0,5.0,3.0,4.0,3.0,2.0,3.0,3.5,5.0,3.5,3.0,3.0,3.0,4.0,1.0,3.5,4.0,3.0,4.0,2.5,1.0,3.0,3.5,0.5,3.0,3.0,4.0,3.0,4.0,3.0,3.0,3.0,3.0,4.0,5.0,3.0,5.0,3.0,3.0,4.0,1.5,2.0])                                                                                                                                                                                                                                                                                                                                                                                                                                                                                                                                                                                                                                                                                                                                                                                                                                                                                                                                                                                                                                                                                                                                                                                                                                  |\n",
      "|4      |(610,[5,13,83,261,410,599],[3.0,3.0,3.0,1.0,2.0,1.5])                                                                                                                                                                                                                                                                                                                                                                                                                                                                                                                                                                                                                                                                                                                                                                                                                                                                                                                                                                                                                                                                                                                                                                                                                                                                                                                                                                                                                                                                                                                                                        |\n",
      "|5      |(610,[5,30,42,44,57,65,67,83,102,106,110,116,119,120,146,168,169,180,199,228,268,269,275,287,320,352,388,401,413,436,447,450,455,457,469,473,482,488,489,491,500,508,520,560,589,599,603],[5.0,3.0,5.0,3.0,4.0,4.0,2.0,3.0,4.0,4.0,3.5,3.0,4.0,3.0,4.5,5.0,3.0,3.0,4.0,3.0,3.0,3.0,3.0,2.0,3.0,3.0,4.0,3.0,2.0,2.0,3.0,3.0,3.0,3.0,3.0,1.5,2.5,2.0,0.5,3.0,3.0,1.5,3.0,3.0,2.0,2.5,3.0])                                                                                                                                                                                                                                                                                                                                                                                                                                                                                                                                                                                                                                                                                                                                                                                                                                                                                                                                                                                                                                                                                                                                                                                                                     |\n",
      "+-------+-------------------------------------------------------------------------------------------------------------------------------------------------------------------------------------------------------------------------------------------------------------------------------------------------------------------------------------------------------------------------------------------------------------------------------------------------------------------------------------------------------------------------------------------------------------------------------------------------------------------------------------------------------------------------------------------------------------------------------------------------------------------------------------------------------------------------------------------------------------------------------------------------------------------------------------------------------------------------------------------------------------------------------------------------------------------------------------------------------------------------------------------------------------------------------------------------------------------------------------------------------------------------------------------------------------------------------------------------------------------------------------------------------------------------------------------------------------------------------------------------------------------------------------------------------------------------------------------------------------+\n",
      "only showing top 5 rows\n",
      "\n"
     ]
    },
    {
     "name": "stderr",
     "output_type": "stream",
     "text": [
      "                                                                                \r"
     ]
    }
   ],
   "source": [
    "num_users = ratings.select(\"userId\").distinct().count()\n",
    "\n",
    "item_vectors_rdd = item_user.rdd.map(\n",
    "    lambda row: Row(\n",
    "        movieId=row[\"movieId\"],\n",
    "        features=to_sparse_vector(row[\"user_ratings\"], num_users)\n",
    "    )\n",
    ")\n",
    "item_vectors = spark.createDataFrame(item_vectors_rdd)\n",
    "item_vectors.cache()\n",
    "print(\"=== ITEM VECTORS ===\")\n",
    "item_vectors.show(5, truncate=False)"
   ]
  },
  {
   "cell_type": "markdown",
   "id": "b3ef9541",
   "metadata": {},
   "source": [
    "### Criação dos Vetores de Características dos Itens\n",
    "\n",
    "Aqui, para cada item, criamos um vetor esparso representando as avaliações dos usuários. Esses vetores serão usados para calcular similaridades entre itens."
   ]
  },
  {
   "cell_type": "markdown",
   "id": "e0e54195",
   "metadata": {},
   "source": [
    "### 3.2 Normalize Vectors\n",
    " \n",
    "We normalize the vectors so that Euclidean distance can approximate cosine similarity.\n"
   ]
  },
  {
   "cell_type": "code",
   "execution_count": 11,
   "id": "c2e477b2",
   "metadata": {},
   "outputs": [
    {
     "name": "stdout",
     "output_type": "stream",
     "text": [
      "Normalized Item Vectors (sample):\n",
      "+-------+-------------------------------------------------------------------------------------------------------------------------------------------------------------------------------------------------------------------------------------------------------------------------------------------------------------------------------------------------------------------------------------------------------------------------------------------------------------------------------------------------------------------------------------------------------------------------------------------------------------------------------------------------------------------------------------------------------------------------------------------------------------------------------------------------------------------------------------------------------------------------------------------------------------------------------------------------------------------------------------------------------------------------------------------------------------------------------------------------------------------------------------------------------------------------------------------------------------------------------------------------------------------------------------------------------------------------------------------------------------------------------------------------------------------------------------------------------------------------------------------------------------------------------------------------------------------------------------------------------------+-----------------------------------------------------------------------------------------------------------------------------------------------------------------------------------------------------------------------------------------------------------------------------------------------------------------------------------------------------------------------------------------------------------------------------------------------------------------------------------------------------------------------------------------------------------------------------------------------------------------------------------------------------------------------------------------------------------------------------------------------------------------------------------------------------------------------------------------------------------------------------------------------------------------------------------------------------------------------------------------------------------------------------------------------------------------------------------------------------------------------------------------------------------------------------------------------------------------------------------------------------------------------------------------------------------------------------------------------------------------------------------------------------------------------------------------------------------------------------------------------------------------------------------------------------------------------------------------------------------------------------------------------------------------------------------------------------------------------------------------------------------------------------------------------------------------------------------------------------------------------------------------------------------------------------------------------------------------------------------------------------------------------------------------------------------------------------------------------------------------------------------------------------------------------------------------------------------------------------------------------------------------------------------------------------------------------------------------------------------------------------------------------------------------------------------------------------------------------------------------------------------------------------------------------------------------------------------------------------------------------------------------------------------------------------------------------------------------------------------------------------------------------------------------------------------------------------------------------------------------------------------------------------------------------------------------------------------------------------------------------------------------------------------------------------------------------------------------------------------------------------------------------------------------------------------------------------------------------------------------------------------------------------------------------------------------------------------------------------------------------------------------------------------------------------------------------------------------------------------------------------------------------------------------------------------------------------------------------------------------------------------------------------------------------------------------------------------------------------------------------------------------------------------------------------------------------------------------------------------------------------------------------------------------------------------------------------------------------------------------------------------------------------------------------------------------------------------------------------------------------------------------------------------------------------------------------------------------------------------------------------------------------------------------------------------------------------------------------------------------------------------------------------------------------------------------------------------------------------------------------------------------------------------------------------------------------------------------------------------------------------------------------------------------------------------------------------------------------------------------------------------------------------------------------------------------------------------------------------------------------------------------------------+\n",
      "|movieId|features                                                                                                                                                                                                                                                                                                                                                                                                                                                                                                                                                                                                                                                                                                                                                                                                                                                                                                                                                                                                                                                                                                                                                                                                                                                                                                                                                                                                                                                                                                                                                                                                     |norm_features                                                                                                                                                                                                                                                                                                                                                                                                                                                                                                                                                                                                                                                                                                                                                                                                                                                                                                                                                                                                                                                                                                                                                                                                                                                                                                                                                                                                                                                                                                                                                                                                                                                                                                                                                                                                                                                                                                                                                                                                                                                                                                                                                                                                                                                                                                                                                                                                                                                                                                                                                                                                                                                                                                                                                                                                                                                                                                                                                                                                                                                                                                                                                                                                                                                                                                                                                                                                                                                                                                                                                                                                                                                                                                                                                                                                                                                                                                                                                                                                                                                                                                                                                                                                                                                                                                                                                                                                                                                                                                                                                                                                                                                                                                                                                                                                                                                                                        |\n",
      "+-------+-------------------------------------------------------------------------------------------------------------------------------------------------------------------------------------------------------------------------------------------------------------------------------------------------------------------------------------------------------------------------------------------------------------------------------------------------------------------------------------------------------------------------------------------------------------------------------------------------------------------------------------------------------------------------------------------------------------------------------------------------------------------------------------------------------------------------------------------------------------------------------------------------------------------------------------------------------------------------------------------------------------------------------------------------------------------------------------------------------------------------------------------------------------------------------------------------------------------------------------------------------------------------------------------------------------------------------------------------------------------------------------------------------------------------------------------------------------------------------------------------------------------------------------------------------------------------------------------------------------+-----------------------------------------------------------------------------------------------------------------------------------------------------------------------------------------------------------------------------------------------------------------------------------------------------------------------------------------------------------------------------------------------------------------------------------------------------------------------------------------------------------------------------------------------------------------------------------------------------------------------------------------------------------------------------------------------------------------------------------------------------------------------------------------------------------------------------------------------------------------------------------------------------------------------------------------------------------------------------------------------------------------------------------------------------------------------------------------------------------------------------------------------------------------------------------------------------------------------------------------------------------------------------------------------------------------------------------------------------------------------------------------------------------------------------------------------------------------------------------------------------------------------------------------------------------------------------------------------------------------------------------------------------------------------------------------------------------------------------------------------------------------------------------------------------------------------------------------------------------------------------------------------------------------------------------------------------------------------------------------------------------------------------------------------------------------------------------------------------------------------------------------------------------------------------------------------------------------------------------------------------------------------------------------------------------------------------------------------------------------------------------------------------------------------------------------------------------------------------------------------------------------------------------------------------------------------------------------------------------------------------------------------------------------------------------------------------------------------------------------------------------------------------------------------------------------------------------------------------------------------------------------------------------------------------------------------------------------------------------------------------------------------------------------------------------------------------------------------------------------------------------------------------------------------------------------------------------------------------------------------------------------------------------------------------------------------------------------------------------------------------------------------------------------------------------------------------------------------------------------------------------------------------------------------------------------------------------------------------------------------------------------------------------------------------------------------------------------------------------------------------------------------------------------------------------------------------------------------------------------------------------------------------------------------------------------------------------------------------------------------------------------------------------------------------------------------------------------------------------------------------------------------------------------------------------------------------------------------------------------------------------------------------------------------------------------------------------------------------------------------------------------------------------------------------------------------------------------------------------------------------------------------------------------------------------------------------------------------------------------------------------------------------------------------------------------------------------------------------------------------------------------------------------------------------------------------------------------------------------------------------------------------------+\n",
      "|1      |(610,[0,4,6,16,17,18,20,26,30,31,32,39,42,43,44,45,49,53,56,62,63,65,67,70,72,77,81,85,88,90,92,95,97,102,106,111,118,120,129,131,133,134,136,139,140,143,144,150,152,154,155,158,159,160,165,166,168,170,176,177,178,181,184,185,190,192,200,201,205,212,213,215,216,222,225,231,232,238,239,246,248,251,262,263,265,269,272,273,274,275,276,278,279,287,289,290,291,292,297,303,306,313,322,327,329,331,333,335,336,338,340,346,349,352,356,358,363,366,371,372,377,379,380,381,384,388,390,395,398,410,411,419,421,431,435,437,447,450,452,455,459,461,467,468,469,470,473,475,476,479,482,483,487,489,491,499,503,508,513,516,521,523,524,527,528,532,533,540,543,549,554,558,559,560,561,566,569,571,572,578,579,583,586,589,595,596,598,599,600,602,603,604,605,606,607,608,609],[4.0,4.0,4.5,4.5,3.5,4.0,3.5,3.0,5.0,3.0,3.0,5.0,5.0,3.0,4.0,5.0,3.0,3.0,5.0,5.0,4.0,4.0,2.5,5.0,4.5,4.0,2.5,4.0,3.0,4.0,3.0,5.0,4.5,4.0,4.0,3.0,3.5,4.0,3.0,2.0,3.0,4.0,4.0,3.0,4.0,3.5,5.0,5.0,2.0,3.0,4.0,4.5,4.0,4.0,5.0,3.5,4.5,5.0,5.0,4.0,4.0,4.0,4.0,4.0,4.0,2.0,5.0,4.0,5.0,3.5,3.0,3.0,4.0,3.5,3.5,3.5,3.0,4.0,5.0,5.0,4.0,4.5,4.0,4.0,2.0,5.0,5.0,4.0,5.0,4.0,4.0,3.0,4.5,4.5,4.0,4.0,4.0,3.0,2.0,5.0,4.0,3.0,3.5,5.0,4.0,4.0,3.5,4.0,4.0,4.0,5.0,5.0,4.0,5.0,5.0,4.0,5.0,5.0,3.0,3.0,4.5,5.0,3.5,4.5,4.0,5.0,3.0,5.0,4.0,5.0,2.0,4.0,4.0,2.5,4.0,4.5,5.0,5.0,5.0,5.0,4.5,1.5,4.0,4.0,4.0,5.0,4.0,4.0,4.0,3.0,4.0,4.5,4.5,3.5,4.0,4.0,4.0,4.0,4.0,4.0,3.0,4.0,4.0,2.5,3.0,5.0,4.0,3.0,3.0,4.0,4.0,5.0,3.0,4.0,4.5,3.5,4.0,4.0,5.0,4.0,3.0,5.0,5.0,4.0,4.0,4.0,3.0,2.5,4.0,4.0,3.0,4.0,2.5,4.0,2.5,3.0,5.0])|(610,[0,4,6,16,17,18,20,26,30,31,32,39,42,43,44,45,49,53,56,62,63,65,67,70,72,77,81,85,88,90,92,95,97,102,106,111,118,120,129,131,133,134,136,139,140,143,144,150,152,154,155,158,159,160,165,166,168,170,176,177,178,181,184,185,190,192,200,201,205,212,213,215,216,222,225,231,232,238,239,246,248,251,262,263,265,269,272,273,274,275,276,278,279,287,289,290,291,292,297,303,306,313,322,327,329,331,333,335,336,338,340,346,349,352,356,358,363,366,371,372,377,379,380,381,384,388,390,395,398,410,411,419,421,431,435,437,447,450,452,455,459,461,467,468,469,470,473,475,476,479,482,483,487,489,491,499,503,508,513,516,521,523,524,527,528,532,533,540,543,549,554,558,559,560,561,566,569,571,572,578,579,583,586,589,595,596,598,599,600,602,603,604,605,606,607,608,609],[0.07097175775079163,0.07097175775079163,0.07984322746964059,0.07984322746964059,0.06210028803194268,0.07097175775079163,0.06210028803194268,0.05322881831309373,0.08871469718848955,0.05322881831309373,0.05322881831309373,0.08871469718848955,0.08871469718848955,0.05322881831309373,0.07097175775079163,0.08871469718848955,0.05322881831309373,0.05322881831309373,0.08871469718848955,0.08871469718848955,0.07097175775079163,0.07097175775079163,0.044357348594244776,0.08871469718848955,0.07984322746964059,0.07097175775079163,0.044357348594244776,0.07097175775079163,0.05322881831309373,0.07097175775079163,0.05322881831309373,0.08871469718848955,0.07984322746964059,0.07097175775079163,0.07097175775079163,0.05322881831309373,0.06210028803194268,0.07097175775079163,0.05322881831309373,0.03548587887539582,0.05322881831309373,0.07097175775079163,0.07097175775079163,0.05322881831309373,0.07097175775079163,0.06210028803194268,0.08871469718848955,0.08871469718848955,0.03548587887539582,0.05322881831309373,0.07097175775079163,0.07984322746964059,0.07097175775079163,0.07097175775079163,0.08871469718848955,0.06210028803194268,0.07984322746964059,0.08871469718848955,0.08871469718848955,0.07097175775079163,0.07097175775079163,0.07097175775079163,0.07097175775079163,0.07097175775079163,0.07097175775079163,0.03548587887539582,0.08871469718848955,0.07097175775079163,0.08871469718848955,0.06210028803194268,0.05322881831309373,0.05322881831309373,0.07097175775079163,0.06210028803194268,0.06210028803194268,0.06210028803194268,0.05322881831309373,0.07097175775079163,0.08871469718848955,0.08871469718848955,0.07097175775079163,0.07984322746964059,0.07097175775079163,0.07097175775079163,0.03548587887539582,0.08871469718848955,0.08871469718848955,0.07097175775079163,0.08871469718848955,0.07097175775079163,0.07097175775079163,0.05322881831309373,0.07984322746964059,0.07984322746964059,0.07097175775079163,0.07097175775079163,0.07097175775079163,0.05322881831309373,0.03548587887539582,0.08871469718848955,0.07097175775079163,0.05322881831309373,0.06210028803194268,0.08871469718848955,0.07097175775079163,0.07097175775079163,0.06210028803194268,0.07097175775079163,0.07097175775079163,0.07097175775079163,0.08871469718848955,0.08871469718848955,0.07097175775079163,0.08871469718848955,0.08871469718848955,0.07097175775079163,0.08871469718848955,0.08871469718848955,0.05322881831309373,0.05322881831309373,0.07984322746964059,0.08871469718848955,0.06210028803194268,0.07984322746964059,0.07097175775079163,0.08871469718848955,0.05322881831309373,0.08871469718848955,0.07097175775079163,0.08871469718848955,0.03548587887539582,0.07097175775079163,0.07097175775079163,0.044357348594244776,0.07097175775079163,0.07984322746964059,0.08871469718848955,0.08871469718848955,0.08871469718848955,0.08871469718848955,0.07984322746964059,0.026614409156546864,0.07097175775079163,0.07097175775079163,0.07097175775079163,0.08871469718848955,0.07097175775079163,0.07097175775079163,0.07097175775079163,0.05322881831309373,0.07097175775079163,0.07984322746964059,0.07984322746964059,0.06210028803194268,0.07097175775079163,0.07097175775079163,0.07097175775079163,0.07097175775079163,0.07097175775079163,0.07097175775079163,0.05322881831309373,0.07097175775079163,0.07097175775079163,0.044357348594244776,0.05322881831309373,0.08871469718848955,0.07097175775079163,0.05322881831309373,0.05322881831309373,0.07097175775079163,0.07097175775079163,0.08871469718848955,0.05322881831309373,0.07097175775079163,0.07984322746964059,0.06210028803194268,0.07097175775079163,0.07097175775079163,0.08871469718848955,0.07097175775079163,0.05322881831309373,0.08871469718848955,0.08871469718848955,0.07097175775079163,0.07097175775079163,0.07097175775079163,0.05322881831309373,0.044357348594244776,0.07097175775079163,0.07097175775079163,0.05322881831309373,0.07097175775079163,0.044357348594244776,0.07097175775079163,0.044357348594244776,0.05322881831309373,0.08871469718848955])|\n",
      "|2      |(610,[5,7,17,18,19,20,26,50,61,67,81,90,93,102,103,106,116,121,124,134,139,143,148,152,159,176,185,201,220,221,225,231,239,248,258,273,275,283,287,293,297,298,303,304,307,317,320,321,322,329,346,356,358,372,379,380,410,413,424,425,431,435,445,446,447,457,469,473,475,476,479,482,483,488,496,500,511,516,522,524,526,558,560,562,565,569,572,585,598,599,601,603,604,607],[4.0,4.0,3.0,3.0,3.0,3.5,4.0,4.5,4.0,2.5,3.0,3.0,4.0,4.0,3.0,5.0,3.0,4.0,4.0,3.0,3.5,3.0,1.0,2.0,4.0,3.5,4.0,4.0,3.5,2.5,3.0,4.0,5.0,4.0,2.0,3.5,4.0,4.0,2.0,3.0,0.5,3.0,4.0,3.5,3.0,3.5,5.0,3.0,4.0,1.5,3.0,3.0,3.5,3.0,5.0,4.0,4.0,3.0,3.0,4.5,4.0,4.0,3.0,5.0,3.0,4.0,3.0,3.0,4.0,4.0,3.0,4.0,2.5,2.5,2.5,3.0,3.0,3.0,4.5,3.5,4.0,4.0,4.0,2.5,4.0,3.5,4.5,4.0,2.5,4.0,4.0,5.0,3.5,2.0])                                                                                                                                                                                                                                                                                                                                                                                                                                                                                                                                                                                                                                                                                                                                                                                                                                   |(610,[5,7,17,18,19,20,26,50,61,67,81,90,93,102,103,106,116,121,124,134,139,143,148,152,159,176,185,201,220,221,225,231,239,248,258,273,275,283,287,293,297,298,303,304,307,317,320,321,322,329,346,356,358,372,379,380,410,413,424,425,431,435,445,446,447,457,469,473,475,476,479,482,483,488,496,500,511,516,522,524,526,558,560,562,565,569,572,585,598,599,601,603,604,607],[0.11624763874381928,0.11624763874381928,0.08718572905786447,0.08718572905786447,0.08718572905786447,0.10171668390084188,0.11624763874381928,0.1307785935867967,0.11624763874381928,0.07265477421488706,0.08718572905786447,0.08718572905786447,0.11624763874381928,0.11624763874381928,0.08718572905786447,0.14530954842977412,0.08718572905786447,0.11624763874381928,0.11624763874381928,0.08718572905786447,0.10171668390084188,0.08718572905786447,0.02906190968595482,0.05812381937190964,0.11624763874381928,0.10171668390084188,0.11624763874381928,0.11624763874381928,0.10171668390084188,0.07265477421488706,0.08718572905786447,0.11624763874381928,0.14530954842977412,0.11624763874381928,0.05812381937190964,0.10171668390084188,0.11624763874381928,0.11624763874381928,0.05812381937190964,0.08718572905786447,0.01453095484297741,0.08718572905786447,0.11624763874381928,0.10171668390084188,0.08718572905786447,0.10171668390084188,0.14530954842977412,0.08718572905786447,0.11624763874381928,0.04359286452893223,0.08718572905786447,0.08718572905786447,0.10171668390084188,0.08718572905786447,0.14530954842977412,0.11624763874381928,0.11624763874381928,0.08718572905786447,0.08718572905786447,0.1307785935867967,0.11624763874381928,0.11624763874381928,0.08718572905786447,0.14530954842977412,0.08718572905786447,0.11624763874381928,0.08718572905786447,0.08718572905786447,0.11624763874381928,0.11624763874381928,0.08718572905786447,0.11624763874381928,0.07265477421488706,0.07265477421488706,0.07265477421488706,0.08718572905786447,0.08718572905786447,0.08718572905786447,0.1307785935867967,0.10171668390084188,0.11624763874381928,0.11624763874381928,0.11624763874381928,0.07265477421488706,0.11624763874381928,0.10171668390084188,0.1307785935867967,0.11624763874381928,0.07265477421488706,0.11624763874381928,0.11624763874381928,0.14530954842977412,0.10171668390084188,0.05812381937190964])                                                                                                                                                                                                                                                                                                                                                                                                                                                                                                                                                                                                                                                                                                                                                                                                                                                                                                                                                                                                                                                                                                                                                                                                                                                                                                                                                                                                                                                                                                                                                                                                                                                                                                                                                                                                                                                                                                                                                                                                                                                                                                                                                                                                                                                                                                                                                                                                                                                                                                                                                               |\n",
      "|3      |(610,[0,5,18,31,41,42,43,50,57,67,90,99,101,115,116,149,150,178,216,225,239,269,287,288,293,301,306,307,320,329,336,367,409,447,455,469,476,491,500,543,554,587,589,593,598,607],[4.0,5.0,3.0,3.0,4.0,5.0,3.0,4.0,3.0,2.0,3.0,3.5,5.0,3.5,3.0,3.0,3.0,4.0,1.0,3.5,4.0,3.0,4.0,2.5,1.0,3.0,3.5,0.5,3.0,3.0,4.0,3.0,4.0,3.0,3.0,3.0,3.0,4.0,5.0,3.0,5.0,3.0,3.0,4.0,1.5,2.0])                                                                                                                                                                                                                                                                                                                                                                                                                                                                                                                                                                                                                                                                                                                                                                                                                                                                                                                                                                                                                                                                                                                                                                                                                                  |(610,[0,5,18,31,41,42,43,50,57,67,90,99,101,115,116,149,150,178,216,225,239,269,287,288,293,301,306,307,320,329,336,367,409,447,455,469,476,491,500,543,554,587,589,593,598,607],[0.17329988005756983,0.2166248500719623,0.12997491004317738,0.12997491004317738,0.17329988005756983,0.2166248500719623,0.12997491004317738,0.17329988005756983,0.12997491004317738,0.08664994002878491,0.12997491004317738,0.1516373950503736,0.2166248500719623,0.1516373950503736,0.12997491004317738,0.12997491004317738,0.12997491004317738,0.17329988005756983,0.04332497001439246,0.1516373950503736,0.17329988005756983,0.12997491004317738,0.17329988005756983,0.10831242503598115,0.04332497001439246,0.12997491004317738,0.1516373950503736,0.02166248500719623,0.12997491004317738,0.12997491004317738,0.17329988005756983,0.12997491004317738,0.17329988005756983,0.12997491004317738,0.12997491004317738,0.12997491004317738,0.12997491004317738,0.17329988005756983,0.2166248500719623,0.12997491004317738,0.2166248500719623,0.12997491004317738,0.12997491004317738,0.17329988005756983,0.06498745502158869,0.08664994002878491])                                                                                                                                                                                                                                                                                                                                                                                                                                                                                                                                                                                                                                                                                                                                                                                                                                                                                                                                                                                                                                                                                                                                                                                                                                                                                                                                                                                                                                                                                                                                                                                                                                                                                                                                                                                                                                                                                                                                                                                                                                                                                                                                                                                                                                                                                                                                                                                                                                                                                                                                                                                                                                                                                                                                                                                                                                                                                                                                                                                                                                                                                                                                                                                                                                                                                                                                                                                                                                                                                                                                                                                                                                                                                                                                                                   |\n",
      "|4      |(610,[5,13,83,261,410,599],[3.0,3.0,3.0,1.0,2.0,1.5])                                                                                                                                                                                                                                                                                                                                                                                                                                                                                                                                                                                                                                                                                                                                                                                                                                                                                                                                                                                                                                                                                                                                                                                                                                                                                                                                                                                                                                                                                                                                                        |(610,[5,13,83,261,410,599],[0.5126145946300565,0.5126145946300565,0.5126145946300565,0.1708715315433522,0.3417430630867044,0.25630729731502827])                                                                                                                                                                                                                                                                                                                                                                                                                                                                                                                                                                                                                                                                                                                                                                                                                                                                                                                                                                                                                                                                                                                                                                                                                                                                                                                                                                                                                                                                                                                                                                                                                                                                                                                                                                                                                                                                                                                                                                                                                                                                                                                                                                                                                                                                                                                                                                                                                                                                                                                                                                                                                                                                                                                                                                                                                                                                                                                                                                                                                                                                                                                                                                                                                                                                                                                                                                                                                                                                                                                                                                                                                                                                                                                                                                                                                                                                                                                                                                                                                                                                                                                                                                                                                                                                                                                                                                                                                                                                                                                                                                                                                                                                                                                                                     |\n",
      "|5      |(610,[5,30,42,44,57,65,67,83,102,106,110,116,119,120,146,168,169,180,199,228,268,269,275,287,320,352,388,401,413,436,447,450,455,457,469,473,482,488,489,491,500,508,520,560,589,599,603],[5.0,3.0,5.0,3.0,4.0,4.0,2.0,3.0,4.0,4.0,3.5,3.0,4.0,3.0,4.5,5.0,3.0,3.0,4.0,3.0,3.0,3.0,3.0,2.0,3.0,3.0,4.0,3.0,2.0,2.0,3.0,3.0,3.0,3.0,3.0,1.5,2.5,2.0,0.5,3.0,3.0,1.5,3.0,3.0,2.0,2.5,3.0])                                                                                                                                                                                                                                                                                                                                                                                                                                                                                                                                                                                                                                                                                                                                                                                                                                                                                                                                                                                                                                                                                                                                                                                                                     |(610,[5,30,42,44,57,65,67,83,102,106,110,116,119,120,146,168,169,180,199,228,268,269,275,287,320,352,388,401,413,436,447,450,455,457,469,473,482,488,489,491,500,508,520,560,589,599,603],[0.2289942900985637,0.13739657405913822,0.2289942900985637,0.13739657405913822,0.18319543207885097,0.18319543207885097,0.09159771603942549,0.13739657405913822,0.18319543207885097,0.18319543207885097,0.1602960030689946,0.13739657405913822,0.18319543207885097,0.13739657405913822,0.20609486108870734,0.2289942900985637,0.13739657405913822,0.13739657405913822,0.18319543207885097,0.13739657405913822,0.13739657405913822,0.13739657405913822,0.13739657405913822,0.09159771603942549,0.13739657405913822,0.13739657405913822,0.18319543207885097,0.13739657405913822,0.09159771603942549,0.09159771603942549,0.13739657405913822,0.13739657405913822,0.13739657405913822,0.13739657405913822,0.13739657405913822,0.06869828702956911,0.11449714504928185,0.09159771603942549,0.02289942900985637,0.13739657405913822,0.13739657405913822,0.06869828702956911,0.13739657405913822,0.13739657405913822,0.09159771603942549,0.11449714504928185,0.13739657405913822])                                                                                                                                                                                                                                                                                                                                                                                                                                                                                                                                                                                                                                                                                                                                                                                                                                                                                                                                                                                                                                                                                                                                                                                                                                                                                                                                                                                                                                                                                                                                                                                                                                                                                                                                                                                                                                                                                                                                                                                                                                                                                                                                                                                                                                                                                                                                                                                                                                                                                                                                                                                                                                                                                                                                                                                                                                                                                                                                                                                                                                                                                                                                                                                                                                                                                                                                                                                                                                                                                                                                                                                                                                                                                                                                 |\n",
      "+-------+-------------------------------------------------------------------------------------------------------------------------------------------------------------------------------------------------------------------------------------------------------------------------------------------------------------------------------------------------------------------------------------------------------------------------------------------------------------------------------------------------------------------------------------------------------------------------------------------------------------------------------------------------------------------------------------------------------------------------------------------------------------------------------------------------------------------------------------------------------------------------------------------------------------------------------------------------------------------------------------------------------------------------------------------------------------------------------------------------------------------------------------------------------------------------------------------------------------------------------------------------------------------------------------------------------------------------------------------------------------------------------------------------------------------------------------------------------------------------------------------------------------------------------------------------------------------------------------------------------------+-----------------------------------------------------------------------------------------------------------------------------------------------------------------------------------------------------------------------------------------------------------------------------------------------------------------------------------------------------------------------------------------------------------------------------------------------------------------------------------------------------------------------------------------------------------------------------------------------------------------------------------------------------------------------------------------------------------------------------------------------------------------------------------------------------------------------------------------------------------------------------------------------------------------------------------------------------------------------------------------------------------------------------------------------------------------------------------------------------------------------------------------------------------------------------------------------------------------------------------------------------------------------------------------------------------------------------------------------------------------------------------------------------------------------------------------------------------------------------------------------------------------------------------------------------------------------------------------------------------------------------------------------------------------------------------------------------------------------------------------------------------------------------------------------------------------------------------------------------------------------------------------------------------------------------------------------------------------------------------------------------------------------------------------------------------------------------------------------------------------------------------------------------------------------------------------------------------------------------------------------------------------------------------------------------------------------------------------------------------------------------------------------------------------------------------------------------------------------------------------------------------------------------------------------------------------------------------------------------------------------------------------------------------------------------------------------------------------------------------------------------------------------------------------------------------------------------------------------------------------------------------------------------------------------------------------------------------------------------------------------------------------------------------------------------------------------------------------------------------------------------------------------------------------------------------------------------------------------------------------------------------------------------------------------------------------------------------------------------------------------------------------------------------------------------------------------------------------------------------------------------------------------------------------------------------------------------------------------------------------------------------------------------------------------------------------------------------------------------------------------------------------------------------------------------------------------------------------------------------------------------------------------------------------------------------------------------------------------------------------------------------------------------------------------------------------------------------------------------------------------------------------------------------------------------------------------------------------------------------------------------------------------------------------------------------------------------------------------------------------------------------------------------------------------------------------------------------------------------------------------------------------------------------------------------------------------------------------------------------------------------------------------------------------------------------------------------------------------------------------------------------------------------------------------------------------------------------------------------------------------------------------------------+\n",
      "only showing top 5 rows\n",
      "\n"
     ]
    }
   ],
   "source": [
    "normalizer = Normalizer(inputCol=\"features\", outputCol=\"norm_features\", p=2.0)\n",
    "normalized_item_vectors = normalizer.transform(item_vectors)\n",
    "normalized_item_vectors.cache() # Cache for LSH\n",
    "\n",
    "print(\"Normalized Item Vectors (sample):\")\n",
    "normalized_item_vectors.show(5, truncate=False)"
   ]
  },
  {
   "cell_type": "markdown",
   "id": "313508db",
   "metadata": {},
   "source": [
    "### 3.2 Normalização dos Vetores\n",
    "\n",
    "Normalizamos os vetores dos itens utilizando a norma L2. Isso permite que a distância Euclidiana aproxime a similaridade cosseno, facilitando o uso do LSH para encontrar itens similares."
   ]
  },
  {
   "cell_type": "markdown",
   "id": "7bbb694d",
   "metadata": {},
   "source": [
    "## 3.3 Apply LSH\n",
    "\n",
    "We fit an LSH model. The `bucketLength` and `numHashTables` are key parameters:\n",
    "* `bucketLength`: Affects the width of the buckets. Smaller values lead to more, smaller buckets (higher precision, lower recall).\n",
    "* `numHashTables`: Increases the chance of finding neighbors by using multiple hash functions (higher recall, more computation).\n",
    "\n",
    "These parameters often require tuning based on the dataset and desired trade-off.\n"
   ]
  },
  {
   "cell_type": "code",
   "execution_count": 12,
   "id": "60157a4c",
   "metadata": {},
   "outputs": [
    {
     "name": "stderr",
     "output_type": "stream",
     "text": [
      "25/05/30 23:57:56 WARN InstanceBuilder: Failed to load implementation from:dev.ludovic.netlib.blas.JNIBLAS\n"
     ]
    }
   ],
   "source": [
    "bucket_length = 1.5\n",
    "num_hash_tables = 8\n",
    "\n",
    "\n",
    "lsh = BucketedRandomProjectionLSH(\n",
    "    inputCol=\"norm_features\",\n",
    "    outputCol=\"hashes\",\n",
    "    bucketLength= bucket_length,\n",
    "    numHashTables= num_hash_tables\n",
    ")\n",
    "\n",
    "lsh_model = lsh.fit(normalized_item_vectors)"
   ]
  },
  {
   "cell_type": "markdown",
   "id": "609bdfe5",
   "metadata": {},
   "source": [
    "### 3.3 Configuração e Treinamento do LSH\n",
    "\n",
    "Definimos os parâmetros do LSH (comprimento do bucket e número de tabelas de hash) e treinamos o modelo para agrupar itens similares em buckets, acelerando a busca por vizinhos próximos."
   ]
  },
  {
   "cell_type": "markdown",
   "id": "18cc1ce1",
   "metadata": {},
   "source": [
    "### 3.4 Find Similar Items\n",
    "We use `approxSimilarityJoin` to find pairs with a Euclidean distance below a certain `threshold`. We then convert this distance to cosine similarity using the formula: $\\cos(\\theta) = 1 - \\frac{d^2}{2}$. We ensure we have both (i, j) and (j, i) pairs.\n"
   ]
  },
  {
   "cell_type": "code",
   "execution_count": 13,
   "id": "f058a326",
   "metadata": {},
   "outputs": [
    {
     "name": "stdout",
     "output_type": "stream",
     "text": [
      "Similar Item Pairs (sample):\n"
     ]
    },
    {
     "name": "stderr",
     "output_type": "stream",
     "text": [
      "[Stage 62:==============================================>       (348 + 8) / 400]\r"
     ]
    },
    {
     "name": "stdout",
     "output_type": "stream",
     "text": [
      "+----+-----+------------------+\n",
      "|i_mv|j_mv |cosine_sim        |\n",
      "+----+-----+------------------+\n",
      "|12  |39400|0.5139088171029906|\n",
      "|27  |191  |0.5587497991102406|\n",
      "|30  |3475 |0.5437272478270369|\n",
      "|30  |1176 |0.5970814340265322|\n",
      "|30  |649  |0.6963106238227913|\n",
      "|38  |78034|0.6666666666666667|\n",
      "|38  |4409 |0.506171068243531 |\n",
      "|43  |8809 |0.5254364539073235|\n",
      "|77  |2902 |0.6396021490668313|\n",
      "|92  |25870|0.5132649025747364|\n",
      "+----+-----+------------------+\n",
      "only showing top 10 rows\n",
      "\n"
     ]
    },
    {
     "name": "stderr",
     "output_type": "stream",
     "text": [
      "                                                                                \r"
     ]
    }
   ],
   "source": [
    "# Set a threshold for similarity (Euclidean distance)\n",
    "# A threshold of 1.0 means we consider pairs with cosine similarity >= 0.5\n",
    "similarity_threshold = 1.0\n",
    "\n",
    "# Perform the join\n",
    "neighbors = lsh_model.approxSimilarityJoin(\n",
    "    normalized_item_vectors,\n",
    "    normalized_item_vectors,\n",
    "    threshold=similarity_threshold, \n",
    "    distCol=\"distance\"\n",
    ").filter(col(\"datasetA.movieId\") != col(\"datasetB.movieId\")) # Exclude self-pairs\n",
    "\n",
    "# Calculate cosine similarity and select relevant columns\n",
    "neighbors_cosine = neighbors.withColumn(\n",
    "    \"cosine_sim\",\n",
    "    1 - (col(\"distance\") ** 2) / 2\n",
    ").select(\n",
    "    col(\"datasetA.movieId\").alias(\"i_mv\"),\n",
    "    col(\"datasetB.movieId\").alias(\"j_mv\"),\n",
    "    \"cosine_sim\"\n",
    ")\n",
    "\n",
    "# Make pairs symmetric: (i, j) and (j, i)\n",
    "# Although approxSimilarityJoin can be non-symmetric, we make it symmetric\n",
    "# by creating reverse pairs and taking distinct pairs or grouping.\n",
    "# A simpler approach is to union and then use these pairs in the next step.\n",
    "similarities = neighbors_cosine.union(\n",
    "    neighbors_cosine.selectExpr(\"j_mv as i_mv\", \"i_mv as j_mv\", \"cosine_sim\")\n",
    ")\n",
    "\n",
    "similarities.cache() # Cache for predictions\n",
    "\n",
    "print(\"Similar Item Pairs (sample):\")\n",
    "similarities.show(10, truncate=False)"
   ]
  },
  {
   "cell_type": "markdown",
   "id": "46fede5b",
   "metadata": {},
   "source": [
    "### 3.4 Busca por Itens Similares\n",
    "\n",
    "Utilizamos o método `approxSimilarityJoin` do LSH para encontrar pares de itens com distância Euclidiana abaixo de um limiar. Convertendo essa distância para similaridade cosseno, obtemos os pares de itens mais similares para recomendações."
   ]
  },
  {
   "cell_type": "markdown",
   "id": "02771828",
   "metadata": {},
   "source": [
    "#4. Prediction\n",
    "\n",
    "To predict the rating for a user *u* on a movie *i*, we use the formula:\n",
    "\n",
    "$$ \\hat{r}_{ui} = \\frac{\\sum_{j \\in N(i)} s_{ij} \\cdot r_{uj}}{\\sum_{j \\in N(i)} |s_{ij}|} $$\n",
    "\n",
    "Where:\n",
    "* $N(i)$ is the set of neighbors of movie *i*.\n",
    "* $s_{ij}$ is the similarity between movie *i* and movie *j*.\n",
    "* $r_{uj}$ is the rating given by user *u* to movie *j*.\n",
    "\n",
    "We achieve this by joining the `test_data` with `similarities` and then with `train_data`.\n"
   ]
  },
  {
   "cell_type": "code",
   "execution_count": 14,
   "id": "ccdee601",
   "metadata": {},
   "outputs": [
    {
     "name": "stdout",
     "output_type": "stream",
     "text": [
      "Test Data with Neighbor Ratings (sample):\n",
      "+------+------------+--------------+------------------+---------------+\n",
      "|userId|target_movie|neighbor_movie|cosine_sim        |neighbor_rating|\n",
      "+------+------------+--------------+------------------+---------------+\n",
      "|525   |260         |1210          |0.6824355345941335|4.0            |\n",
      "|477   |260         |1210          |0.6824355345941335|4.5            |\n",
      "|453   |260         |1210          |0.6824355345941335|3.0            |\n",
      "|380   |260         |1210          |0.6824355345941335|5.0            |\n",
      "|337   |260         |1210          |0.6824355345941335|5.0            |\n",
      "+------+------------+--------------+------------------+---------------+\n",
      "only showing top 5 rows\n",
      "\n"
     ]
    }
   ],
   "source": [
    "# Join test data with similarities to find neighbors for target movies\n",
    "test_neighbors = test.alias(\"t\") \\\n",
    "    .join(similarities.alias(\"s\"), col(\"t.movieId\") == col(\"s.i_mv\"))\n",
    "\n",
    "# Join with train data to get user ratings for neighbor movies\n",
    "test_with_ratings = test_neighbors \\\n",
    "    .join(ratings.alias(\"r\"), (col(\"t.userId\") == col(\"r.userId\")) & (col(\"s.j_mv\") == col(\"r.movieId\"))) \\\n",
    "    .select(\n",
    "        col(\"t.userId\"),\n",
    "        col(\"t.movieId\").alias(\"target_movie\"),\n",
    "        col(\"s.j_mv\").alias(\"neighbor_movie\"),\n",
    "        col(\"s.cosine_sim\"),\n",
    "        col(\"r.rating\").alias(\"neighbor_rating\")\n",
    "    )\n",
    "\n",
    "print(\"Test Data with Neighbor Ratings (sample):\")\n",
    "test_with_ratings.show(5, truncate=False)"
   ]
  },
  {
   "cell_type": "markdown",
   "id": "9b76fb06",
   "metadata": {},
   "source": [
    "## 4. Predição das Avaliações\n",
    "\n",
    "Para prever a nota que um usuário daria a um filme, buscamos os vizinhos do item alvo e as avaliações do usuário nesses vizinhos. O código a seguir realiza os joins necessários para obter essas informações."
   ]
  },
  {
   "cell_type": "markdown",
   "id": "774df5b1",
   "metadata": {},
   "source": [
    "Now, we calculate the weighted average. We add a small epsilon or use `F.when` to avoid division by zero if the sum of similarities is zero.\n"
   ]
  },
  {
   "cell_type": "code",
   "execution_count": 15,
   "id": "03f37e0d",
   "metadata": {},
   "outputs": [
    {
     "name": "stdout",
     "output_type": "stream",
     "text": [
      "Predicted Ratings (sample):\n"
     ]
    },
    {
     "name": "stderr",
     "output_type": "stream",
     "text": [
      "[Stage 79:==================================================>   (375 + 8) / 400]\r"
     ]
    },
    {
     "name": "stdout",
     "output_type": "stream",
     "text": [
      "+------+------------+------------------+\n",
      "|userId|target_movie|pred_rating       |\n",
      "+------+------------+------------------+\n",
      "|480   |3793        |3.9043522855700528|\n",
      "|599   |7193        |2.2990280109681414|\n",
      "|347   |480         |3.6339209916483215|\n",
      "|593   |4306        |3.0803749143352657|\n",
      "|599   |6539        |3.2462228492111707|\n",
      "+------+------------+------------------+\n",
      "only showing top 5 rows\n",
      "\n"
     ]
    },
    {
     "name": "stderr",
     "output_type": "stream",
     "text": [
      "                                                                                \r"
     ]
    }
   ],
   "source": [
    "# Calculate weighted sum and sum of weights\n",
    "weighted_sums = test_with_ratings.groupBy(\"userId\", \"target_movie\").agg(\n",
    "    sql_sum(col(\"cosine_sim\") * col(\"neighbor_rating\")).alias(\"weighted_rating_sum\"),\n",
    "    sql_sum(F.abs(col(\"cosine_sim\"))).alias(\"similarity_sum\") # Use absolute for the denominator\n",
    ")\n",
    "\n",
    "# Predict ratings, handling potential division by zero\n",
    "predictions = weighted_sums.withColumn(\n",
    "    \"pred_rating\",\n",
    "    F.when(\n",
    "        col(\"similarity_sum\") > 0,\n",
    "        col(\"weighted_rating_sum\") / col(\"similarity_sum\")\n",
    "    ).otherwise(None) \n",
    ").filter(col(\"pred_rating\").isNotNull()) \\\n",
    " .select(\"userId\", \"target_movie\", \"pred_rating\")\n",
    "\n",
    "print(\"Predicted Ratings (sample):\")\n",
    "predictions.show(5, truncate=False)\n"
   ]
  },
  {
   "cell_type": "markdown",
   "id": "d7e0f5c7",
   "metadata": {},
   "source": [
    "### Cálculo da Média Ponderada das Avaliações\n",
    "\n",
    "Calculamos a média ponderada das avaliações dos vizinhos, utilizando as similaridades como pesos. Isso resulta na predição da nota para cada usuário-filme no conjunto de teste."
   ]
  },
  {
   "cell_type": "markdown",
   "id": "6b58cf1e",
   "metadata": {},
   "source": [
    "We evaluate the predictions against the actual ratings in the `test_data` using **Root Mean Squared Error (RMSE)** and **Mean Absolute Error (MAE)**.\n"
   ]
  },
  {
   "cell_type": "code",
   "execution_count": 16,
   "id": "dfc3d41c",
   "metadata": {},
   "outputs": [
    {
     "name": "stdout",
     "output_type": "stream",
     "text": [
      "Final Results with Predictions and Actuals (sample):\n"
     ]
    },
    {
     "name": "stderr",
     "output_type": "stream",
     "text": [
      "[Stage 91:=====================================================>(394 + 6) / 400]\r"
     ]
    },
    {
     "name": "stdout",
     "output_type": "stream",
     "text": [
      "+------+------------+------------------+-------------+\n",
      "|userId|target_movie|pred_rating       |actual_rating|\n",
      "+------+------------+------------------+-------------+\n",
      "|599   |6811        |1.961901830838415 |3.0          |\n",
      "|95    |6934        |4.0               |4.0          |\n",
      "|574   |296         |4.646079373154682 |3.0          |\n",
      "|452   |2683        |5.0               |5.0          |\n",
      "|298   |296         |3.843319662443349 |4.5          |\n",
      "|387   |1527        |3.394992861102659 |3.5          |\n",
      "|219   |733         |4.5               |3.5          |\n",
      "|307   |2           |3.0               |2.5          |\n",
      "|610   |76251       |3.2955652596543876|3.5          |\n",
      "|489   |1035        |4.5               |3.5          |\n",
      "+------+------------+------------------+-------------+\n",
      "only showing top 10 rows\n",
      "\n"
     ]
    },
    {
     "name": "stderr",
     "output_type": "stream",
     "text": [
      "                                                                                \r"
     ]
    }
   ],
   "source": [
    "# Join predictions with actual ratings from the test set\n",
    "final_results = predictions.alias(\"p\") \\\n",
    "    .join(test.alias(\"t\"), (col(\"p.userId\") == col(\"t.userId\")) & (col(\"p.target_movie\") == col(\"t.movieId\"))) \\\n",
    "    .select(\n",
    "        col(\"p.userId\"),\n",
    "        col(\"p.target_movie\"),\n",
    "        col(\"p.pred_rating\"),\n",
    "        col(\"t.rating\").alias(\"actual_rating\")\n",
    "    )\n",
    "\n",
    "# Ensure no null predictions are passed to the evaluator\n",
    "final_results_filtered = final_results.filter(col(\"pred_rating\").isNotNull())\n",
    "final_results_filtered.cache()\n",
    "\n",
    "print(\"Final Results with Predictions and Actuals (sample):\")\n",
    "final_results_filtered.show(10, truncate=False)\n"
   ]
  },
  {
   "cell_type": "markdown",
   "id": "3430083c",
   "metadata": {},
   "source": [
    "## Avaliação das Predições\n",
    "\n",
    "Comparamos as predições com as avaliações reais do conjunto de teste utilizando as métricas RMSE (Root Mean Squared Error) e MAE (Mean Absolute Error), que quantificam o erro das recomendações."
   ]
  },
  {
   "cell_type": "code",
   "execution_count": 17,
   "id": "bde5413a",
   "metadata": {},
   "outputs": [
    {
     "name": "stdout",
     "output_type": "stream",
     "text": [
      "Root Mean Squared Error (RMSE): 0.9127885306396452\n",
      "Mean Absolute Error (MAE): 0.6628536445930843\n"
     ]
    }
   ],
   "source": [
    "# calculate RMSE\n",
    "evaluator = RegressionEvaluator(\n",
    "    labelCol=\"actual_rating\",\n",
    "    predictionCol=\"pred_rating\",\n",
    "    metricName=\"rmse\"\n",
    ")\n",
    "rmse = evaluator.evaluate(final_results_filtered)\n",
    "print(f\"Root Mean Squared Error (RMSE): {rmse}\")\n",
    "\n",
    "#calculate MAE\n",
    "mae_evaluator = RegressionEvaluator(\n",
    "    labelCol=\"actual_rating\",\n",
    "    predictionCol=\"pred_rating\",\n",
    "    metricName=\"mae\"\n",
    ")\n",
    "mae = mae_evaluator.evaluate(final_results_filtered)\n",
    "print(f\"Mean Absolute Error (MAE): {mae}\")"
   ]
  },
  {
   "cell_type": "code",
   "execution_count": 18,
   "id": "89564a35",
   "metadata": {},
   "outputs": [
    {
     "name": "stdout",
     "output_type": "stream",
     "text": [
      "Resultados salvos em './output/'\n"
     ]
    }
   ],
   "source": [
    "# Tempo total de execução\n",
    "end_time = time.time()\n",
    "execution_time = round(end_time - start_time, 2)\n",
    "\n",
    "summary = pd.DataFrame([{\n",
    "    'Dataset':  data_sel,\n",
    "    'Train Size': ratings.count(),\n",
    "    'Test Size': test.count(),\n",
    "    'Similarity': 'Cosine (approximated with LSH)',\n",
    "    'Similarity Threshold': similarity_threshold,\n",
    "    'Num Hash Tables': num_hash_tables,\n",
    "    'Bucket Length': bucket_length,\n",
    "    'RMSE': rmse,\n",
    "    'MAE': mae,\n",
    "    'Execution Time (s)': execution_time\n",
    "}])\n",
    "\n",
    "# Salvar o resumo\n",
    "output_path = './output/item_item_cf_summary.csv'\n",
    "if os.path.exists(output_path):\n",
    "    summary.to_csv(output_path, mode='a', header=False, index=False)\n",
    "else:\n",
    "    summary.to_csv(output_path, index=False)\n",
    "\n",
    "print(\"Resultados salvos em './output/'\")\n"
   ]
  },
  {
   "cell_type": "markdown",
   "id": "371ff764",
   "metadata": {},
   "source": [
    "## Resumo e Salvamento dos Resultados\n",
    "\n",
    "O código abaixo resume as principais métricas do experimento (tamanho dos conjuntos, parâmetros, erros e tempo de execução) e salva os resultados em um arquivo CSV para análise posterior."
   ]
  },
  {
   "cell_type": "code",
   "execution_count": 19,
   "id": "a4cc4fdd",
   "metadata": {},
   "outputs": [],
   "source": [
    "spark.stop()"
   ]
  },
  {
   "cell_type": "markdown",
   "id": "c5f8d3e6",
   "metadata": {},
   "source": [
    "## Encerramento da Sessão Spark\n",
    "\n",
    "Por fim, encerramos a sessão Spark para liberar os recursos computacionais utilizados durante o processamento."
   ]
  }
 ],
 "metadata": {
  "kernelspec": {
   "display_name": "bolsa",
   "language": "python",
   "name": "python3"
  },
  "language_info": {
   "codemirror_mode": {
    "name": "ipython",
    "version": 3
   },
   "file_extension": ".py",
   "mimetype": "text/x-python",
   "name": "python",
   "nbconvert_exporter": "python",
   "pygments_lexer": "ipython3",
   "version": "3.10.16"
  }
 },
 "nbformat": 4,
 "nbformat_minor": 5
}
