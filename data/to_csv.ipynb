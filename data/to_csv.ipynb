{
 "cells": [
  {
   "cell_type": "code",
   "execution_count": null,
   "id": "9431cdc7",
   "metadata": {},
   "outputs": [
    {
     "name": "stdout",
     "output_type": "stream",
     "text": [
      "./ml-latest-small/ratings.dat not found, skipping.\n",
      "./ml-20m/ratings.dat not found, skipping.\n",
      "./ml-25m/ratings.dat not found, skipping.\n"
     ]
    }
   ],
   "source": [
    "import pandas as pd\n",
    "\n",
    "datasets = {\n",
    "    'small': 'ml-latest-small',\n",
    "    '1m': 'ml-1m',\n",
    "    '10m': 'ml-10m',\n",
    "    '20m': 'ml-20m',\n",
    "    '25m': 'ml-25m'\n",
    "}\n",
    "\n",
    "for key, folder in datasets.items():\n",
    "    file_path = f'./{folder}/ratings.dat'\n",
    "    try:\n",
    "        print(f\"Processing {file_path}...\")\n",
    "        df = pd.read_csv(file_path, sep='::', header=None, engine='python',\n",
    "                         names=[\"userId\", \"movieId\", \"rating\", \"timestamp\"])\n",
    "        df.to_csv(f'./{folder}/ratings.csv', index=False)\n",
    "    except FileNotFoundError:\n",
    "        print(f\"{file_path} not found, skipping.\")\n"
   ]
  },
  {
   "cell_type": "code",
   "execution_count": null,
   "id": "c020041c",
   "metadata": {},
   "outputs": [],
   "source": []
  }
 ],
 "metadata": {
  "kernelspec": {
   "display_name": "bolsa",
   "language": "python",
   "name": "python3"
  },
  "language_info": {
   "codemirror_mode": {
    "name": "ipython",
    "version": 3
   },
   "file_extension": ".py",
   "mimetype": "text/x-python",
   "name": "python",
   "nbconvert_exporter": "python",
   "pygments_lexer": "ipython3",
   "version": "3.10.16"
  }
 },
 "nbformat": 4,
 "nbformat_minor": 5
}
